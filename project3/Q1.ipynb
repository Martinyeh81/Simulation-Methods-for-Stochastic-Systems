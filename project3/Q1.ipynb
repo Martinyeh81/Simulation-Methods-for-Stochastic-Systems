{
 "cells": [
  {
   "cell_type": "code",
   "execution_count": 5,
   "metadata": {},
   "outputs": [],
   "source": [
    "import random\n",
    "import matplotlib.pyplot as plt"
   ]
  },
  {
   "cell_type": "code",
   "execution_count": 25,
   "metadata": {},
   "outputs": [],
   "source": [
    "def main():\n",
    "    prob = []\n",
    "    for i in range(500, 10500, 500):\n",
    "        prob.append(100 * defective_number(i, 5) / i)\n",
    "        print('Reject probability for '+str(i)+' times is ', str(prob[-1]) + '%')\n",
    "\n",
    "    plt.figure()\n",
    "    plt.scatter([x for x in range(500, 10500, 500)], prob, label='Reject probability', color='red')\n",
    "    plt.plot([x for x in range(500, 10500, 500)], [22.13]*20, label='theoretical value', linestyle='-')\n",
    "    plt.xlabel('Times')\n",
    "    plt.ylabel('Reject probability')\n",
    "    plt.legend()\n",
    "    plt.show()\n",
    "\n",
    "    for i in range(10):\n",
    "        for index in range(126):\n",
    "            if defective_number(1000, index) >= 950:\n",
    "                print('The fewest number is ', index)\n",
    "                break"
   ]
  },
  {
   "cell_type": "code",
   "execution_count": 26,
   "metadata": {},
   "outputs": [],
   "source": [
    "def defective_number(times: int, threshold: int):\n",
    "    result = 0\n",
    "    for i in range(times):\n",
    "        total = [x for x in range(1, 126)]\n",
    "        chip_result = True\n",
    "        for j in range(threshold):\n",
    "            def_chip_num = random.sample(total, 1)[0]\n",
    "            if def_chip_num < 7:\n",
    "                chip_result = False\n",
    "                break\n",
    "            total.remove(def_chip_num)\n",
    "\n",
    "        if not chip_result:\n",
    "            result += 1\n",
    "\n",
    "    return result"
   ]
  },
  {
   "cell_type": "code",
   "execution_count": 27,
   "metadata": {},
   "outputs": [
    {
     "name": "stdout",
     "output_type": "stream",
     "text": [
      "Reject probability for 500 times is  20.2%\n",
      "Reject probability for 1000 times is  21.5%\n",
      "Reject probability for 1500 times is  22.133333333333333%\n",
      "Reject probability for 2000 times is  23.85%\n",
      "Reject probability for 2500 times is  23.6%\n",
      "Reject probability for 3000 times is  21.566666666666666%\n",
      "Reject probability for 3500 times is  22.65714285714286%\n",
      "Reject probability for 4000 times is  20.65%\n",
      "Reject probability for 4500 times is  21.711111111111112%\n",
      "Reject probability for 5000 times is  21.58%\n",
      "Reject probability for 5500 times is  21.418181818181818%\n",
      "Reject probability for 6000 times is  22.9%\n",
      "Reject probability for 6500 times is  22.70769230769231%\n",
      "Reject probability for 7000 times is  22.214285714285715%\n",
      "Reject probability for 7500 times is  22.053333333333335%\n",
      "Reject probability for 8000 times is  22.7875%\n",
      "Reject probability for 8500 times is  21.988235294117647%\n",
      "Reject probability for 9000 times is  22.455555555555556%\n",
      "Reject probability for 9500 times is  22.49473684210526%\n",
      "Reject probability for 10000 times is  21.83%\n"
     ]
    },
    {
     "data": {
      "image/png": "[encoded data removed]",
      "text/plain": [
       "<Figure size 432x288 with 1 Axes>"
      ]
     },
     "metadata": {
      "needs_background": "light"
     },
     "output_type": "display_data"
    },
    {
     "name": "stdout",
     "output_type": "stream",
     "text": [
      "The fewest number is  49\n",
      "The fewest number is  46\n",
      "The fewest number is  48\n",
      "The fewest number is  46\n",
      "The fewest number is  45\n",
      "The fewest number is  46\n",
      "The fewest number is  49\n",
      "The fewest number is  48\n",
      "The fewest number is  48\n",
      "The fewest number is  47\n"
     ]
    }
   ],
   "source": [
    "if __name__ == '__main__':\n",
    "    main()"
   ]
  },
  {
   "cell_type": "code",
   "execution_count": null,
   "metadata": {},
   "outputs": [],
   "source": []
  }
 ],
 "metadata": {
  "kernelspec": {
   "display_name": "Python 3",
   "language": "python",
   "name": "python3"
  },
  "language_info": {
   "codemirror_mode": {
    "name": "ipython",
    "version": 3
   },
   "file_extension": ".py",
   "mimetype": "text/x-python",
   "name": "python",
   "nbconvert_exporter": "python",
   "pygments_lexer": "ipython3",
   "version": "3.7.4"
  }
 },
 "nbformat": 4,
 "nbformat_minor": 4
}
