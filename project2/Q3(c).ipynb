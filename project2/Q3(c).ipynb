{
 "cells": [
  {
   "cell_type": "code",
   "execution_count": 42,
   "metadata": {},
   "outputs": [],
   "source": [
    "import random\n",
    "import numpy as np\n",
    "from scipy.stats import chisquare\n",
    "from scipy.stats import chi2"
   ]
  },
  {
   "cell_type": "code",
   "execution_count": 44,
   "metadata": {},
   "outputs": [
    {
     "name": "stdout",
     "output_type": "stream",
     "text": [
      "0 times, chi-Square = 190.36\n",
      "1 times, chi-Square = 267.15999999999997\n",
      "2 times, chi-Square = 229.06\n",
      "3 times, chi-Square = 187.51999999999998\n",
      "4 times, chi-Square = 212.48000000000002\n",
      "5 times, chi-Square = 218.94\n",
      "6 times, chi-Square = 277.8\n",
      "7 times, chi-Square = 220.28\n",
      "8 times, chi-Square = 224.7\n",
      "9 times, chi-Square = 195.68\n",
      "10 times, chi-Square = 203.07999999999998\n",
      "11 times, chi-Square = 217.98000000000002\n",
      "12 times, chi-Square = 194.14\n",
      "13 times, chi-Square = 184.24\n",
      "14 times, chi-Square = 220.38\n",
      "15 times, chi-Square = 216.78\n",
      "16 times, chi-Square = 222.32\n",
      "17 times, chi-Square = 187.51999999999998\n",
      "18 times, chi-Square = 230.1\n",
      "19 times, chi-Square = 187.34\n",
      "Chi square test statistic is:  187.34\n",
      "Chi square test p-value is:  1.4823445053597472e-35\n",
      "The 95 percentile of chi square dist with 9 dof, is: 16.918977604620448\n"
     ]
    }
   ],
   "source": [
    "for times in range(20):\n",
    "    num = 1000\n",
    "    M = 10\n",
    "    expect = num/M\n",
    "    sample = []\n",
    "    obser = []\n",
    "    for i in range(num):\n",
    "        sample.extend(random.sample(range(10), 1))\n",
    "    a = np.array([sample.count(0)+sample.count(1)])\n",
    "    for i in range(2,11):\n",
    "        obser.append(sample.count(i))\n",
    "    obser.extend(a)\n",
    "    x = obser\n",
    "    x_theo = []\n",
    "    for i in range(M):\n",
    "        x_theo.append(expect)\n",
    "    chi_sq_res = chisquare(x,x_theo)\n",
    "    print(str(times) + ' times, chi-Square =', chi_sq_res.statistic)\n",
    "\n",
    "print('Chi square test statistic is: ', str(chi_sq_res.statistic))\n",
    "print('Chi square test p-value is: ', str(chi_sq_res.pvalue))\n",
    "print('The 95 percentile of chi square dist with',str(len(x)-1),'dof, is:',str(chi2.ppf(0.95,len(x)-1)))"
   ]
  },
  {
   "cell_type": "code",
   "execution_count": 50,
   "metadata": {},
   "outputs": [],
   "source": [
    "import numpy as np\n",
    "import matplotlib.pyplot as plt"
   ]
  },
  {
   "cell_type": "code",
   "execution_count": null,
   "metadata": {},
   "outputs": [],
   "source": []
  },
  {
   "cell_type": "code",
   "execution_count": null,
   "metadata": {},
   "outputs": [],
   "source": []
  }
 ],
 "metadata": {
  "kernelspec": {
   "display_name": "Python 3",
   "language": "python",
   "name": "python3"
  },
  "language_info": {
   "codemirror_mode": {
    "name": "ipython",
    "version": 3
   },
   "file_extension": ".py",
   "mimetype": "text/x-python",
   "name": "python",
   "nbconvert_exporter": "python",
   "pygments_lexer": "ipython3",
   "version": "3.7.4"
  }
 },
 "nbformat": 4,
 "nbformat_minor": 4
}
