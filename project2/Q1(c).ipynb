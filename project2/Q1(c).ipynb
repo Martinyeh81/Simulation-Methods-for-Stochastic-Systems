{
 "cells": [
  {
   "cell_type": "code",
   "execution_count": 34,
   "metadata": {},
   "outputs": [],
   "source": [
    "import random\n",
    "import numpy as np\n",
    "import matplotlib.pyplot as plt"
   ]
  },
  {
   "cell_type": "code",
   "execution_count": 35,
   "metadata": {},
   "outputs": [],
   "source": [
    "std = []\n",
    "mean = []\n",
    "samples = []\n",
    "Num_samples = 50\n",
    "Num_resample = 10000"
   ]
  },
  {
   "cell_type": "code",
   "execution_count": 36,
   "metadata": {},
   "outputs": [],
   "source": [
    "for i in range(Num_samples):\n",
    "    samples.append(np.random.uniform(-3, 2))\n",
    "\n",
    "for i in range(Num_resample):\n",
    "    resample = []\n",
    "    for j in range(Num_samples):\n",
    "        resample.append(random.sample(samples, 1))\n",
    "    std.append(np.std(resample))\n",
    "    mean.append(np.mean(resample))"
   ]
  },
  {
   "cell_type": "code",
   "execution_count": 37,
   "metadata": {},
   "outputs": [
    {
     "data": {
      "image/png": "[encoded data removed]",
      "text/plain": [
       "<Figure size 576x288 with 2 Axes>"
      ]
     },
     "metadata": {
      "needs_background": "light"
     },
     "output_type": "display_data"
    }
   ],
   "source": [
    "fig = plt.figure(figsize=(8,4))\n",
    "plt.subplot(1, 2, 1)\n",
    "plt.title('mean')\n",
    "plt.hist(mean, bins=np.arange(min(mean) - 0.1, max(mean) + 0.2, 0.05), edgecolor='black',alpha=0.75)\n",
    "\n",
    "plt.subplot(1, 2, 2)\n",
    "plt.title('std')\n",
    "plt.hist(std, bins=np.arange(min(std) - 0.1, max(std) + 0.2, 0.02), edgecolor='black',alpha=0.75)\n",
    "\n",
    "plt.show()"
   ]
  },
  {
   "cell_type": "code",
   "execution_count": 39,
   "metadata": {},
   "outputs": [
    {
     "name": "stdout",
     "output_type": "stream",
     "text": [
      "2.5% mean: -0.5610278929092104\n",
      "97.5% mean: -0.322788798092705\n",
      "2.5% std: 1.4810416861781375\n",
      "97.5% std: 1.5221803651103036\n"
     ]
    }
   ],
   "source": [
    "print('2.5% mean:', mean[249])\n",
    "print('97.5% mean:', mean[9749])\n",
    "print('2.5% std:', std[249])\n",
    "print('97.5% std:', std[9749])"
   ]
  },
  {
   "cell_type": "code",
   "execution_count": null,
   "metadata": {},
   "outputs": [],
   "source": []
  }
 ],
 "metadata": {
  "kernelspec": {
   "display_name": "Python 3",
   "language": "python",
   "name": "python3"
  },
  "language_info": {
   "codemirror_mode": {
    "name": "ipython",
    "version": 3
   },
   "file_extension": ".py",
   "mimetype": "text/x-python",
   "name": "python",
   "nbconvert_exporter": "python",
   "pygments_lexer": "ipython3",
   "version": "3.7.4"
  }
 },
 "nbformat": 4,
 "nbformat_minor": 4
}
