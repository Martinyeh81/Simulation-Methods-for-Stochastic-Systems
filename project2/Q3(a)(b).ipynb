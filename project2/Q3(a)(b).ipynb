{
 "cells": [
  {
   "cell_type": "code",
   "execution_count": 71,
   "metadata": {},
   "outputs": [],
   "source": [
    "import random\n",
    "import numpy as np\n",
    "import matplotlib.pyplot as plt\n",
    "from scipy.stats import chisquare\n",
    "from scipy.stats import chi2"
   ]
  },
  {
   "cell_type": "code",
   "execution_count": 72,
   "metadata": {},
   "outputs": [
    {
     "name": "stdout",
     "output_type": "stream",
     "text": [
      "0 times, chi-Square = 13.84\n",
      "1 times, chi-Square = 5.82\n",
      "2 times, chi-Square = 9.5\n",
      "3 times, chi-Square = 7.58\n",
      "4 times, chi-Square = 9.52\n",
      "5 times, chi-Square = 11.16\n",
      "6 times, chi-Square = 9.04\n",
      "7 times, chi-Square = 7.159999999999999\n",
      "8 times, chi-Square = 14.399999999999999\n",
      "9 times, chi-Square = 10.440000000000001\n",
      "10 times, chi-Square = 5.58\n",
      "11 times, chi-Square = 5.739999999999999\n",
      "12 times, chi-Square = 3.2800000000000002\n",
      "13 times, chi-Square = 7.379999999999999\n",
      "14 times, chi-Square = 12.280000000000001\n",
      "15 times, chi-Square = 8.459999999999999\n",
      "16 times, chi-Square = 10.04\n",
      "17 times, chi-Square = 9.36\n",
      "18 times, chi-Square = 3.14\n",
      "19 times, chi-Square = 7.620000000000001\n",
      "Chi square test statistic is:  7.620000000000001\n",
      "Chi square test p-value is:  0.5728470307944129\n",
      "The 95 percentile of chi square dist with 9 dof, is: 16.918977604620448\n"
     ]
    }
   ],
   "source": [
    "for times in range(20):\n",
    "    num = 1000\n",
    "    M = 10\n",
    "    expect = num/M\n",
    "    sample = []\n",
    "    obser = []\n",
    "    for i in range(num):\n",
    "        sample.extend(random.sample(range(10), 1))\n",
    "    for i in range(M):\n",
    "        obser.append(sample.count(i))\n",
    "    x = obser\n",
    "    x_theo = []\n",
    "    for i in range(M):\n",
    "        x_theo.append(expect)\n",
    "    chi_sq_res = chisquare(x,x_theo)\n",
    "    print(str(times) + ' times, chi-Square =', chi_sq_res.statistic)\n",
    "\n",
    "print('Chi square test statistic is: ', str(chi_sq_res.statistic))\n",
    "print('Chi square test p-value is: ', str(chi_sq_res.pvalue))\n",
    "print('The 95 percentile of chi square dist with',str(len(x)-1),'dof, is:',str(chi2.ppf(0.95,len(x)-1)))"
   ]
  },
  {
   "cell_type": "code",
   "execution_count": 73,
   "metadata": {},
   "outputs": [
    {
     "data": {
      "image/png": "[encoded data removed]",
      "text/plain": [
       "<Figure size 432x288 with 1 Axes>"
      ]
     },
     "metadata": {
      "needs_background": "light"
     },
     "output_type": "display_data"
    }
   ],
   "source": [
    "plt.hist(sample, bins=np.arange(11)-0.5, edgecolor='black', )\n",
    "plt.xlabel('value of samples')\n",
    "plt.ylabel('number of sample')\n",
    "plt.show()"
   ]
  },
  {
   "cell_type": "code",
   "execution_count": null,
   "metadata": {},
   "outputs": [],
   "source": []
  }
 ],
 "metadata": {
  "kernelspec": {
   "display_name": "Python 3",
   "language": "python",
   "name": "python3"
  },
  "language_info": {
   "codemirror_mode": {
    "name": "ipython",
    "version": 3
   },
   "file_extension": ".py",
   "mimetype": "text/x-python",
   "name": "python",
   "nbconvert_exporter": "python",
   "pygments_lexer": "ipython3",
   "version": "3.7.4"
  }
 },
 "nbformat": 4,
 "nbformat_minor": 4
}
