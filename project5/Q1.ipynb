{
 "cells": [
  {
   "cell_type": "code",
   "execution_count": 25,
   "metadata": {},
   "outputs": [],
   "source": [
    "import numpy as np"
   ]
  },
  {
   "cell_type": "code",
   "execution_count": 30,
   "metadata": {},
   "outputs": [],
   "source": [
    "def main():\n",
    "    for trial in range(10):\n",
    "        print(str(trial+1) + ' trial:', run(20))"
   ]
  },
  {
   "cell_type": "code",
   "execution_count": 31,
   "metadata": {},
   "outputs": [],
   "source": [
    "def run(n):\n",
    "    answer = []\n",
    "    for i in range(n):\n",
    "        break_time = []\n",
    "        arr_time = arrive_time()\n",
    "        time_ptr = 0\n",
    "        while len(arr_time):\n",
    "            if time_ptr < arr_time[0]:\n",
    "                break_time.append(0.3 * np.random.rand())\n",
    "                time_ptr += break_time[-1]\n",
    "            else:\n",
    "                time_ptr += np.random.exponential(1 / 25, 1)\n",
    "                arr_time.remove(arr_time[0])\n",
    "        answer.append(sum(break_time))\n",
    "    return np.mean(answer)"
   ]
  },
  {
   "cell_type": "code",
   "execution_count": 32,
   "metadata": {},
   "outputs": [],
   "source": [
    "def arrive_time():\n",
    "    arrive_time_result = []\n",
    "    rate = [x for x in range(4, 20, 3)] + [x for x in range(19, 6, -3)]\n",
    "    for hour in range(100):\n",
    "        t = hour\n",
    "        while True:\n",
    "            t += (-1/rate[hour % 10]) * np.log(np.random.uniform())\n",
    "            if t - hour > 1:\n",
    "                break\n",
    "            arrive_time_result.append(t)\n",
    "    return arrive_time_result"
   ]
  },
  {
   "cell_type": "code",
   "execution_count": 33,
   "metadata": {},
   "outputs": [
    {
     "name": "stdout",
     "output_type": "stream",
     "text": [
      "1 trial: 49.15363545972905\n",
      "2 trial: 49.190465227941736\n",
      "3 trial: 49.35795833545957\n",
      "4 trial: 49.135464104251994\n",
      "5 trial: 48.189575092739275\n",
      "6 trial: 49.69599109695526\n",
      "7 trial: 49.03120522290659\n",
      "8 trial: 49.25309595416945\n",
      "9 trial: 48.72145982669931\n",
      "10 trial: 49.68204680509912\n"
     ]
    }
   ],
   "source": [
    "if __name__ == '__main__':\n",
    "    main()"
   ]
  },
  {
   "cell_type": "code",
   "execution_count": null,
   "metadata": {},
   "outputs": [],
   "source": []
  }
 ],
 "metadata": {
  "kernelspec": {
   "display_name": "Python 3",
   "language": "python",
   "name": "python3"
  },
  "language_info": {
   "codemirror_mode": {
    "name": "ipython",
    "version": 3
   },
   "file_extension": ".py",
   "mimetype": "text/x-python",
   "name": "python",
   "nbconvert_exporter": "python",
   "pygments_lexer": "ipython3",
   "version": "3.7.4"
  }
 },
 "nbformat": 4,
 "nbformat_minor": 4
}
