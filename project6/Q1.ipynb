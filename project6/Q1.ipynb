{
 "cells": [
  {
   "cell_type": "code",
   "execution_count": 36,
   "metadata": {},
   "outputs": [],
   "source": [
    "import time\n",
    "import math\n",
    "import numpy as np\n",
    "import matplotlib.pyplot as plt"
   ]
  },
  {
   "cell_type": "code",
   "execution_count": 37,
   "metadata": {},
   "outputs": [],
   "source": [
    "def main():\n",
    "    a, x, y = box_muller(1000)\n",
    "    theo_pdf = theoretical(np.arange(min(a)-1, max(a)+2, 0.05))\n",
    "    draw_pdf(a, theo_pdf)\n",
    "\n",
    "    print('x y covariance:', np.cov(np.vstack((x,y))))\n",
    "    print('sample mean:', np.mean(a))\n",
    "    print('sample variance:', np.var(a, ddof=1))\n",
    "    \n",
    "    a1,x1,y1 = polar_marsaglia(1000000)\n",
    "    print('x y covariance:', np.cov(np.vstack((x1,y1))))\n",
    "    print('sample mean:', np.mean(a1))\n",
    "    print('sample variance:', np.var(a1, ddof=1))\n",
    "    \n",
    "    box_muller_time(1000000)\n",
    "    polar_marsaglia_time(1000000)"
   ]
  },
  {
   "cell_type": "code",
   "execution_count": 38,
   "metadata": {},
   "outputs": [],
   "source": [
    "def draw_pdf(a, theo):\n",
    "    plt.figure()\n",
    "    plt.hist(a, bins = math.ceil(max(a) - min(a)), edgecolor='black', label='Box Muller', density = 1)\n",
    "    plt.plot(np.arange(min(a) - 1, max(a) + 2, 0.05), theo, color='r', label='theoretical')\n",
    "    plt.xticks(range(int(min(a)) - 1, int(max(a)) + 2))\n",
    "    plt.xlabel('Random variable A = X + Y')\n",
    "    plt.ylabel('Frequency')\n",
    "    plt.legend()\n",
    "    plt.show()"
   ]
  },
  {
   "cell_type": "code",
   "execution_count": 39,
   "metadata": {},
   "outputs": [],
   "source": [
    "def box_muller(n):\n",
    "    a = []\n",
    "    x = []\n",
    "    y = []\n",
    "    for i in range(n):\n",
    "        u1, u2 = np.random.uniform(size=2)\n",
    "        X = ((-2 * math.log(u1)) ** 0.5) * math.cos(2 * math.pi * u2)\n",
    "        x.append(2 * X + 1)\n",
    "        Y = ((-2 * math.log(u1)) ** 0.5) * math.sin(2 * math.pi * u2)\n",
    "        y.append(3 * Y + 2)\n",
    "        a.append(2 * X + 1 + 3 * Y + 2)\n",
    "    return a, x, y"
   ]
  },
  {
   "cell_type": "code",
   "execution_count": 40,
   "metadata": {},
   "outputs": [],
   "source": [
    "def polar_marsaglia(n):\n",
    "    a = []\n",
    "    x = []\n",
    "    y = []\n",
    "    count = 0\n",
    "    while count < n:\n",
    "        X, Y = np.random.uniform(-1, 1, size=2)\n",
    "        s = X ** 2 + Y ** 2\n",
    "        if s < 1:\n",
    "            r1 = X * ((-2 * np.log(s) / s) ** 0.5)\n",
    "            x.append(2 * r1 + 1)\n",
    "            r2 = Y * ((-2 * np.log(s) / s) ** 0.5)\n",
    "            y.append(3 * r2 + 2)\n",
    "            a.append(2 * r1 + 1 + 3 * r2 + 2)\n",
    "            count += 1\n",
    "    return a, x, y"
   ]
  },
  {
   "cell_type": "code",
   "execution_count": 41,
   "metadata": {},
   "outputs": [],
   "source": [
    "def theoretical(xrange):\n",
    "    theo = []\n",
    "    for x in xrange:\n",
    "        theo.append(np.exp(-((x - 3) ** 2) / (2 * 13)) / ((13 ** 0.5) * np.sqrt(2 * np.pi)))\n",
    "    return theo"
   ]
  },
  {
   "cell_type": "code",
   "execution_count": 42,
   "metadata": {},
   "outputs": [],
   "source": [
    "def box_muller_time(n):\n",
    "    start_time = time.time()\n",
    "    box_muller(n)\n",
    "    end_time = time.time()\n",
    "    print('Box-Muller time:', end_time - start_time)"
   ]
  },
  {
   "cell_type": "code",
   "execution_count": 43,
   "metadata": {},
   "outputs": [],
   "source": [
    "def polar_marsaglia_time(n):\n",
    "    start_time = time.time()\n",
    "    polar_marsaglia(n)\n",
    "    end_time = time.time()\n",
    "    print('Polar Marsaglia time:', end_time - start_time)"
   ]
  },
  {
   "cell_type": "code",
   "execution_count": 44,
   "metadata": {},
   "outputs": [
    {
     "data": {
      "image/png": "[encoded data removed]",
      "text/plain": [
       "<Figure size 432x288 with 1 Axes>"
      ]
     },
     "metadata": {
      "needs_background": "light"
     },
     "output_type": "display_data"
    },
    {
     "name": "stdout",
     "output_type": "stream",
     "text": [
      "x y covariance: [[ 4.02883272 -0.04545007]\n",
      " [-0.04545007  9.45788365]]\n",
      "sample mean: 2.938091731393635\n",
      "sample variance: 13.395816230737609\n",
      "x y covariance: [[ 3.99423827e+00 -1.69319710e-03]\n",
      " [-1.69319710e-03  9.00720981e+00]]\n",
      "sample mean: 2.999613984970189\n",
      "sample variance: 12.998061688620847\n",
      "Box-Muller time: 6.7029242515563965\n",
      "Polar Marsaglia time: 15.930892944335938\n"
     ]
    }
   ],
   "source": [
    "if __name__ == '__main__':\n",
    "    main()"
   ]
  },
  {
   "cell_type": "code",
   "execution_count": null,
   "metadata": {},
   "outputs": [],
   "source": []
  }
 ],
 "metadata": {
  "kernelspec": {
   "display_name": "Python 3",
   "language": "python",
   "name": "python3"
  },
  "language_info": {
   "codemirror_mode": {
    "name": "ipython",
    "version": 3
   },
   "file_extension": ".py",
   "mimetype": "text/x-python",
   "name": "python",
   "nbconvert_exporter": "python",
   "pygments_lexer": "ipython3",
   "version": "3.7.4"
  }
 },
 "nbformat": 4,
 "nbformat_minor": 4
}
