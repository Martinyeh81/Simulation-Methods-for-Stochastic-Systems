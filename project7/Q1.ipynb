{
 "cells": [
  {
   "cell_type": "code",
   "execution_count": 1,
   "metadata": {},
   "outputs": [],
   "source": [
    "import numpy as np"
   ]
  },
  {
   "cell_type": "code",
   "execution_count": 11,
   "metadata": {},
   "outputs": [
    {
     "name": "stdout",
     "output_type": "stream",
     "text": [
      "The 1 time:  [1.95005093 1.90703219 4.43132801]\n",
      "The 2 time:  [2.25149976 2.15746164 4.52808848]\n",
      "The 3 time:  [2.05726938 1.94123969 4.23624268]\n",
      "The 4 time:  [1.34637037 2.16848152 4.1437209 ]\n",
      "The 5 time:  [1.47406723 3.83790225 5.69502658]\n",
      "The 6 time:  [1.96707806 3.74135015 4.97567496]\n",
      "The 7 time:  [2.2582815  1.76260412 3.78853806]\n",
      "The 8 time:  [2.5409341  2.71273832 5.29016732]\n",
      "The 9 time:  [1.78153362 2.74385783 4.97471879]\n",
      "The 10 time:  [1.36964882 3.74936323 5.33809502]\n",
      "The 11 time:  [2.61555532 3.27326654 5.66121249]\n",
      "The 12 time:  [1.71179348 3.45966532 4.6848072 ]\n",
      "The 13 time:  [2.19211134 3.06083526 5.41757383]\n",
      "The 14 time:  [1.16390154 2.02526763 4.09480651]\n",
      "The 15 time:  [2.04629356 2.73863397 4.22699813]\n",
      "The 16 time:  [1.08465558 4.05327546 5.32471808]\n",
      "The 17 time:  [2.59924042 3.46495889 5.11436291]\n",
      "The 18 time:  [1.59441223 1.96799443 3.62632716]\n",
      "The 19 time:  [1.05895778 2.38643058 4.33377056]\n",
      "The 20 time:  [2.644067   2.43295587 4.46789304]\n"
     ]
    }
   ],
   "source": [
    "u = np.array([1, 2, 3])\n",
    "sigma = np.array([[3, -1, 1], [-1, 5, 3], [1, 3, 4]])\n",
    "\n",
    "A = np.linalg.cholesky(sigma)\n",
    "for i in range(20):\n",
    "    Z = np.array(np.random.rand(3))\n",
    "    X = np.dot(A, Z.T) + u\n",
    "    print('The '+ str(i+1)+' time: ', X)"
   ]
  },
  {
   "cell_type": "code",
   "execution_count": null,
   "metadata": {},
   "outputs": [],
   "source": []
  }
 ],
 "metadata": {
  "kernelspec": {
   "display_name": "Python 3",
   "language": "python",
   "name": "python3"
  },
  "language_info": {
   "codemirror_mode": {
    "name": "ipython",
    "version": 3
   },
   "file_extension": ".py",
   "mimetype": "text/x-python",
   "name": "python",
   "nbconvert_exporter": "python",
   "pygments_lexer": "ipython3",
   "version": "3.7.4"
  }
 },
 "nbformat": 4,
 "nbformat_minor": 4
}
