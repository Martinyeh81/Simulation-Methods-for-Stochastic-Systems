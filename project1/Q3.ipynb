{
 "cells": [
  {
   "cell_type": "code",
   "execution_count": 75,
   "metadata": {},
   "outputs": [],
   "source": [
    "import numpy as np\n",
    "import matplotlib.pyplot as plt"
   ]
  },
  {
   "cell_type": "code",
   "execution_count": 80,
   "metadata": {},
   "outputs": [],
   "source": [
    "N_tosstime = 100\n",
    "N_prob = 0.5\n",
    "N_head = 0\n",
    "N_tail = 0\n",
    "N_longest = 1\n",
    "record = np.empty([N_tosstime,1])\n",
    "N_length = np.empty([N_tosstime,1])\n",
    "count = 1"
   ]
  },
  {
   "cell_type": "code",
   "execution_count": 84,
   "metadata": {},
   "outputs": [],
   "source": [
    "for i in range(0,N_tosstime):\n",
    "    if np.random.random() < N_prob:\n",
    "        N_head += 1\n",
    "        N_tail += 1\n",
    "        record[i] = 1\n",
    "        if N_tail >= N_longest:\n",
    "            N_longest = N_tail\n",
    "            \n",
    "    else:\n",
    "        if N_tail !=0:\n",
    "            N_length[count] = N_tail\n",
    "            count += 1\n",
    "        N_tail = 0\n",
    "        record[i] = 0\n",
    "    if i == N_tosstime - 1 and N_tail != 0:\n",
    "        N_length[count] = N_tail"
   ]
  },
  {
   "cell_type": "code",
   "execution_count": 86,
   "metadata": {},
   "outputs": [
    {
     "data": {
      "text/plain": [
       "Text(0.5, 1.0, 'The heads run lengths')"
      ]
     },
     "execution_count": 86,
     "metadata": {},
     "output_type": "execute_result"
    },
    {
     "data": {
      "image/png": "[encoded data removed]",
      "text/plain": [
       "<Figure size 432x288 with 1 Axes>"
      ]
     },
     "metadata": {
      "needs_background": "light"
     },
     "output_type": "display_data"
    }
   ],
   "source": [
    "x = np.arange(15)-0.5\n",
    "plt.hist(N_length, x, facecolor=\"blue\", edgecolor=\"black\", alpha=0.75)\n",
    "plt.xlim([0.5,14])\n",
    "plt.xlabel(\"tail = 0; head = 1\")\n",
    "plt.ylabel(\"Number\")\n",
    "plt.title(\"The heads run lengths\")"
   ]
  },
  {
   "cell_type": "code",
   "execution_count": null,
   "metadata": {},
   "outputs": [],
   "source": []
  }
 ],
 "metadata": {
  "kernelspec": {
   "display_name": "Python 3",
   "language": "python",
   "name": "python3"
  },
  "language_info": {
   "codemirror_mode": {
    "name": "ipython",
    "version": 3
   },
   "file_extension": ".py",
   "mimetype": "text/x-python",
   "name": "python",
   "nbconvert_exporter": "python",
   "pygments_lexer": "ipython3",
   "version": "3.7.4"
  }
 },
 "nbformat": 4,
 "nbformat_minor": 4
}
