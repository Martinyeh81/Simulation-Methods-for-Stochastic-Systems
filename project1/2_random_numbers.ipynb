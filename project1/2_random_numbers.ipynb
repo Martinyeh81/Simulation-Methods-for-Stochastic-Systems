{
 "cells": [
  {
   "cell_type": "code",
   "execution_count": 2,
   "metadata": {},
   "outputs": [
    {
     "name": "stdout",
     "output_type": "stream",
     "text": [
      "0\n",
      "1\n",
      "2\n",
      "3\n",
      "4\n"
     ]
    }
   ],
   "source": [
    "# basic for loop syntax\n",
    "for i_print in range(0,5):\n",
    "    print(i_print)"
   ]
  },
  {
   "cell_type": "code",
   "execution_count": 3,
   "metadata": {},
   "outputs": [
    {
     "name": "stdout",
     "output_type": "stream",
     "text": [
      "Total time is:  0.014502763748168945\n",
      "<class 'numpy.ndarray'>\n",
      "Shape of rand_np is:  (10000,)\n"
     ]
    }
   ],
   "source": [
    "# generate array of random numbers\n",
    "import time\n",
    "import numpy as np\n",
    "\n",
    "N_rands = 10000 # no of random samples to generate\n",
    "rand_arr1 = [] # create an empty array to store the random samples\n",
    "t0 = time.time()\n",
    "for i_rand in range(0,N_rands):\n",
    "    rand_arr1.append(np.random.rand()) # append a random number in the array\n",
    "t1 = time.time()\n",
    "total = t1-t0\n",
    "rand_np = np.asarray(rand_arr1) # convert the random number array from list to np.array\n",
    "print('Total time is: ',str(total))\n",
    "print(type(rand_np))\n",
    "print('Shape of rand_np is: ',str(rand_np.shape))"
   ]
  },
  {
   "cell_type": "code",
   "execution_count": 4,
   "metadata": {},
   "outputs": [
    {
     "name": "stdout",
     "output_type": "stream",
     "text": [
      "Time with numpy is:  0.0006282329559326172\n",
      "(10000,)\n"
     ]
    }
   ],
   "source": [
    "import numpy as np\n",
    "N_rands = 10000\n",
    "t_np1 = time.time()\n",
    "rand_arr2 = np.random.rand(N_rands) # generate 10000 random number w/o for loop \n",
    "t_np2 = time.time()\n",
    "tnp_tot = t_np2-t_np1\n",
    "print('Time with numpy is: ',str(tnp_tot))\n",
    "print(rand_arr2.shape)"
   ]
  },
  {
   "cell_type": "code",
   "execution_count": 5,
   "metadata": {},
   "outputs": [
    {
     "data": {
      "text/plain": [
       "-2.510293760592925"
      ]
     },
     "execution_count": 5,
     "metadata": {},
     "output_type": "execute_result"
    }
   ],
   "source": [
    "# generate random numbers between a and b\n",
    "import numpy as np\n",
    "import matplotlib.pyplot as plt\n",
    "\n",
    "a = -3\n",
    "b = 7\n",
    "(b-a)*np.random.rand() + a #formula to generate a random number between a and b\n",
    "# rand_ab = (b-a)*np.random.rand(1000,1) + a #generate 1000 random numbers between a & b\n",
    "# plt.hist(rand_ab)\n",
    "# plt.show()"
   ]
  },
  {
   "cell_type": "code",
   "execution_count": 6,
   "metadata": {},
   "outputs": [
    {
     "data": {
      "text/plain": [
       "array([[-3, -3, -2,  1],\n",
       "       [ 3,  2,  3,  3]])"
      ]
     },
     "execution_count": 6,
     "metadata": {},
     "output_type": "execute_result"
    }
   ],
   "source": [
    "# random seed example\n",
    "import numpy as np\n",
    "np.random.seed(50)  # the random number generation is fixed by the seed\n",
    "a_int = 3\n",
    "b_int = 8\n",
    "np.random.randint(a,b, size=(2, 4)) # random ints between 3 & b-1"
   ]
  },
  {
   "cell_type": "code",
   "execution_count": 7,
   "metadata": {},
   "outputs": [
    {
     "name": "stdout",
     "output_type": "stream",
     "text": [
      "Generated random numbers: \n",
      "[0.95470613 0.80468256 0.24423009 0.3251973  0.43930505 0.13478847\n",
      " 0.59472326 0.97821597 0.08861251 0.29394091]\n",
      "Check if the numbers generated are > 0.5:\n",
      "[ True  True False False False False  True  True False False]\n",
      "Elapsed time is:  0.01629185676574707\n",
      "No of heads is:  4\n"
     ]
    }
   ],
   "source": [
    "# Bernoulli thresholding\n",
    "import numpy as np\n",
    "import time\n",
    "# coin w.p. H = 0.5, 100 tosses\n",
    "prob_H = 0.5\n",
    "N_tosses = 10\n",
    "t_H1 = time.time()\n",
    "h_arr = np.random.rand(N_tosses)\n",
    "print('Generated random numbers: ')\n",
    "print(str(h_arr))\n",
    "# heads: rand > 0.5\n",
    "print('Check if the numbers generated are > 0.5:')\n",
    "h_res = h_arr > prob_H\n",
    "print(h_res)\n",
    "No_of_H = sum(h_res) # sum the h_res array with TRUE and FALSE to get the number of heads\n",
    "t_H2 = time.time()\n",
    "time_for_H = t_H2-t_H1\n",
    "print('Elapsed time is: ',str(time_for_H))\n",
    "print('No of heads is: ',str(No_of_H))"
   ]
  },
  {
   "cell_type": "code",
   "execution_count": 10,
   "metadata": {},
   "outputs": [
    {
     "name": "stdout",
     "output_type": "stream",
     "text": [
      "Elapsed time is:  0.0001049041748046875\n",
      "No of heads is:  6\n"
     ]
    }
   ],
   "source": [
    "import numpy as np\n",
    "import time\n",
    "# coin w.p. H = 0.5, 100 tosses\n",
    "prob_H = 0.5\n",
    "# N_tosses = 100\n",
    "t_4H1 = time.time()\n",
    "no_of_h_for = 0\n",
    "for i_H in range(0,N_tosses):\n",
    "    if np.random.rand() > prob_H: # if condition is met add 1 to the Heads counter\n",
    "        no_of_h_for = no_of_h_for + 1\n",
    "t_4H2 = time.time()\n",
    "t_4H_tot = t_4H2 - t_4H1\n",
    "print('Elapsed time is: ',str(t_4H_tot))\n",
    "print('No of heads is: ',str(no_of_h_for))"
   ]
  },
  {
   "cell_type": "code",
   "execution_count": 59,
   "metadata": {},
   "outputs": [
    {
     "name": "stdout",
     "output_type": "stream",
     "text": [
      "[0.05 0.25 0.1  0.2  0.35 0.05]\n",
      "Cum sum of p_die is: [0.05 0.3  0.4  0.6  0.95 1.  ]\n",
      "Random number is: 0.18400482850122712\n",
      "Result of roll is:  2\n"
     ]
    }
   ],
   "source": [
    "# Biased die example from 1->6. X is the result of the die roll.\n",
    "P(X=1) = 0.05, P(X=2) = 0.25, P(X=3) = 0.1, P(X=4) = 0.2, P(X=5) = 0.35, P(X=6) = 0.05   \n",
    "p1 = 0.05\n",
    "p2 = 0.25\n",
    "p3 = 0.1\n",
    "p4 = 0.2\n",
    "p5 = 0.35\n",
    "p6 = 1 - p1 - p2 - p3 - p4 - p5 #P(X = 6) = 1 - the rest of the probabilities\n",
    "p_die = np.array([p1, p2, p3, p4, p5, p6]) # define an array with the probabilities\n",
    "# print(p6)\n",
    "print(p_die)\n",
    "# Need to find the cumulative sum of the prob. array. Then we generate a random number and the result \n",
    "# of the die roll is the interval that the random number belonds in the cum. summed prob. array.\n",
    "print('Cum sum of p_die is:',str(np.cumsum(p_die)))\n",
    "rand_res = np.random.rand()\n",
    "print('Random number is:',str(rand_res))\n",
    "# searchsorted command returns the interval \n",
    "die_res = np.searchsorted(np.cumsum(p_die), rand_res)\n",
    "print('Result of roll is: ',str(die_res + 1))"
   ]
  },
  {
   "cell_type": "code",
   "execution_count": 61,
   "metadata": {},
   "outputs": [
    {
     "name": "stdin",
     "output_type": "stream",
     "text": [
      " 45\n"
     ]
    },
    {
     "name": "stdout",
     "output_type": "stream",
     "text": [
      "<class 'int'>\n"
     ]
    }
   ],
   "source": [
    "# input from user\n",
    "a = input()\n",
    "a = int(a)\n",
    "print(type(a))"
   ]
  },
  {
   "cell_type": "code",
   "execution_count": 66,
   "metadata": {},
   "outputs": [
    {
     "name": "stdout",
     "output_type": "stream",
     "text": [
      "Original array is: [0 1 2 3 4 5 6 7 8 9]\n",
      "Sampled 5  samples from array w/ replacement:  [5 4 9 4 2]\n",
      "Sampled 5  samples from array w/o replacement:  [4 8 3 1 7]\n"
     ]
    }
   ],
   "source": [
    "# sampling from arrays\n",
    "import numpy as np\n",
    "orig_ar = np.arange(0,10)\n",
    "no_of_samples = 5\n",
    "# no_of_samples = 12\n",
    "print('Original array is:',str(orig_ar))\n",
    "# sampling with replacement\n",
    "smpl_ar_w = np.random.choice(orig_ar,size = no_of_samples, replace = True)\n",
    "print('Sampled',str(no_of_samples),' samples from array w/ replacement: ',str(smpl_ar_w))\n",
    "# sampling without replacement\n",
    "smpl_ar_wo = np.random.choice(orig_ar,size = no_of_samples, replace = False)\n",
    "print('Sampled',str(no_of_samples),' samples from array w/o replacement: ',str(smpl_ar_wo))"
   ]
  },
  {
   "cell_type": "code",
   "execution_count": 31,
   "metadata": {},
   "outputs": [
    {
     "name": "stdout",
     "output_type": "stream",
     "text": [
      "Original array is:  [1 0 0 0 1 0 1 0 0 0]\n",
      "Longest sequence of 1s : 1\n"
     ]
    }
   ],
   "source": [
    "# longest sequence of 1's:\n",
    "# https://stackoverflow.com/questions/38161606/find-the-start-position-of-the-longest-sequence-of-1s\n",
    "import numpy as np\n",
    "# nums = np.array([1,1,1,-1-1,1,-1,1,1,-1,-1,-1,1,-1])\n",
    "nums = np.random.randint(0,2,10)\n",
    "# nums = np.array([0,0,0,0,1])\n",
    "\n",
    "# Get start, stop index pairs for islands/seq. of 1s\n",
    "idx_pairs = np.where(np.diff(np.hstack(([False],nums==1,[False]))))[0].reshape(-1,2)\n",
    "consH_res = np.max(np.diff(idx_pairs,axis=1))\n",
    "\n",
    "\n",
    "print('Original array is: ',str(nums))\n",
    "print('Longest sequence of 1s :',str(consH_res))"
   ]
  }
 ],
 "metadata": {
  "kernelspec": {
   "display_name": "Python 3",
   "language": "python",
   "name": "python3"
  },
  "language_info": {
   "codemirror_mode": {
    "name": "ipython",
    "version": 3
   },
   "file_extension": ".py",
   "mimetype": "text/x-python",
   "name": "python",
   "nbconvert_exporter": "python",
   "pygments_lexer": "ipython3",
   "version": "3.7.4"
  }
 },
 "nbformat": 4,
 "nbformat_minor": 4
}
