{
 "cells": [
  {
   "cell_type": "code",
   "execution_count": 3,
   "metadata": {},
   "outputs": [],
   "source": [
    "import numpy as np\n",
    "import matplotlib.pyplot as plt"
   ]
  },
  {
   "cell_type": "code",
   "execution_count": 4,
   "metadata": {},
   "outputs": [],
   "source": [
    "N_tosstime = 200\n",
    "N_prob = 0.8\n",
    "N_repeat = 1000\n",
    "N_head = 0\n",
    "N_tail = 0\n",
    "N_longest = 0\n",
    "record = np.empty([N_tosstime,1])"
   ]
  },
  {
   "cell_type": "code",
   "execution_count": 5,
   "metadata": {},
   "outputs": [],
   "source": [
    "for i in range(0,N_tosstime):\n",
    "    if np.random.random() < N_prob:\n",
    "        N_head += 1\n",
    "        N_tail += 1\n",
    "        record[i] = 1\n",
    "        if N_tail >= N_longest:\n",
    "            N_longest = N_tail\n",
    "            \n",
    "    else:\n",
    "        N_tail = 0\n",
    "        record[i] = 0"
   ]
  },
  {
   "cell_type": "code",
   "execution_count": 6,
   "metadata": {},
   "outputs": [
    {
     "name": "stdout",
     "output_type": "stream",
     "text": [
      "Number of heads is: 164\n",
      "Longest run of heads is: 19\n"
     ]
    }
   ],
   "source": [
    "print(\"Number of heads is:\" ,str(N_head))\n",
    "print(\"Longest run of heads is:\" ,str(N_longest))"
   ]
  },
  {
   "cell_type": "code",
   "execution_count": 15,
   "metadata": {},
   "outputs": [
    {
     "data": {
      "text/plain": [
       "Text(0.5, 1.0, 'Bernoulli result')"
      ]
     },
     "execution_count": 15,
     "metadata": {},
     "output_type": "execute_result"
    },
    {
     "data": {
      "image/png": "[encoded data removed]",
      "text/plain": [
       "<Figure size 432x288 with 1 Axes>"
      ]
     },
     "metadata": {
      "needs_background": "light"
     },
     "output_type": "display_data"
    }
   ],
   "source": [
    "x = np.arange(3)-0.5\n",
    "plt.hist(record, x, facecolor=\"blue\", edgecolor=\"black\", alpha=0.75)\n",
    "plt.xlabel(\"tail = 0; head = 1\")\n",
    "plt.ylabel(\"Number\")\n",
    "plt.title(\"Bernoulli result\")"
   ]
  },
  {
   "cell_type": "code",
   "execution_count": null,
   "metadata": {},
   "outputs": [],
   "source": []
  }
 ],
 "metadata": {
  "kernelspec": {
   "display_name": "Python 3",
   "language": "python",
   "name": "python3"
  },
  "language_info": {
   "codemirror_mode": {
    "name": "ipython",
    "version": 3
   },
   "file_extension": ".py",
   "mimetype": "text/x-python",
   "name": "python",
   "nbconvert_exporter": "python",
   "pygments_lexer": "ipython3",
   "version": "3.7.4"
  }
 },
 "nbformat": 4,
 "nbformat_minor": 4
}
