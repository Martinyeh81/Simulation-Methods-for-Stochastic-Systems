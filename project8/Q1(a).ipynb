{
 "cells": [
  {
   "cell_type": "code",
   "execution_count": 1,
   "metadata": {},
   "outputs": [],
   "source": [
    "import numpy as np"
   ]
  },
  {
   "cell_type": "code",
   "execution_count": 3,
   "metadata": {},
   "outputs": [
    {
     "name": "stdout",
     "output_type": "stream",
     "text": [
      "Mean is:  2.021270041838607e+20\n",
      "Variance is:  2.8994871955111318e+19\n",
      "Mean with stratified sampling is:  2.023109638297115e+20\n",
      "Variance is:  1.7851795198529784e+18\n",
      "Mean with importance sample is:  2.116984860625681e+20\n",
      "Variance is:  4.538356839437648e+19\n"
     ]
    }
   ],
   "source": [
    "def my_func(x, y):\n",
    "    return np.exp(5 * (5 - x) + 5 * (5 - y))\n",
    "\n",
    "\n",
    "N = 1000\n",
    "fX = np.random.rand(1, N)\n",
    "fY = np.random.rand(1, N)\n",
    "X = my_func(fX, fY)\n",
    "print('Mean is: ', str(np.mean(X)))\n",
    "print('Variance is: ',2 * np.std(X) / np.sqrt(N))\n",
    "\n",
    "# stratified sampling\n",
    "K = 20\n",
    "XSb = np.zeros((K, K))\n",
    "SS = np.zeros_like(XSb)\n",
    "Nij = N / np.power(K, 2)\n",
    "\n",
    "for i in range(K):\n",
    "    for j in range(K):\n",
    "        XS = my_func((i + np.random.rand(1, int(Nij))) / K, (j + np.random.rand(1, int(Nij))) / K)\n",
    "        XSb[i][j] = np.mean(XS)\n",
    "        SS[i][j] = np.var(XS)\n",
    "\n",
    "SST = np.mean((SS / N))\n",
    "SSM = np.mean((XSb))\n",
    "print('Mean with stratified sampling is: ', str(SSM))\n",
    "print('Variance is: ',2 * np.sqrt(SST))\n",
    "\n",
    "# importance sampling\n",
    "N_is = 1000\n",
    "U = np.random.rand(2, N_is)\n",
    "X_is = np.log(1 + (np.exp(1) - 1) * U)\n",
    "T = (np.e-1) ** 2 * np.exp(5 * (5 - X_is[0]) + 5 * (5 - X_is[1]) - (X_is[0] + X_is[1]))\n",
    "print('Mean with importance sample is: ', str(np.mean(T)))\n",
    "print('Variance is: ',2 * np.std(T) / np.sqrt(N))"
   ]
  },
  {
   "cell_type": "code",
   "execution_count": null,
   "metadata": {},
   "outputs": [],
   "source": []
  }
 ],
 "metadata": {
  "kernelspec": {
   "display_name": "Python 3",
   "language": "python",
   "name": "python3"
  },
  "language_info": {
   "codemirror_mode": {
    "name": "ipython",
    "version": 3
   },
   "file_extension": ".py",
   "mimetype": "text/x-python",
   "name": "python",
   "nbconvert_exporter": "python",
   "pygments_lexer": "ipython3",
   "version": "3.7.6"
  }
 },
 "nbformat": 4,
 "nbformat_minor": 4
}
