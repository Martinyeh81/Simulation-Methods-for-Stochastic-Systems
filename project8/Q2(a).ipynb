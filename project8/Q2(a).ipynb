{
 "cells": [
  {
   "cell_type": "code",
   "execution_count": 1,
   "metadata": {},
   "outputs": [],
   "source": [
    "import random\n",
    "import numpy as np"
   ]
  },
  {
   "cell_type": "code",
   "execution_count": 10,
   "metadata": {},
   "outputs": [
    {
     "name": "stdout",
     "output_type": "stream",
     "text": [
      "1 times: 17.015005214694348\n",
      "2 times: 17.050633735701958\n",
      "3 times: 17.977770062442495\n",
      "4 times: 17.01053662794878\n",
      "5 times: 17.978840514979883\n",
      "6 times: 18.019308974967018\n",
      "7 times: 17.917358910603905\n",
      "8 times: 18.020290471053798\n",
      "9 times: 17.961253233885266\n",
      "10 times: 16.977655502753148\n"
     ]
    }
   ],
   "source": [
    "for times in range(10):\n",
    "    dim = list(range(3))\n",
    "    x = [[5] for i in range(3)]\n",
    "    for i in range(10000):\n",
    "        s, tmp = 0, 0\n",
    "        r = random.randint(0, 2)\n",
    "        for j in dim:\n",
    "            if j == r:\n",
    "                continue\n",
    "            s += (j + 1) * x[j][-1]\n",
    "        total = 15 - s\n",
    "        while tmp * (r + 1) <= total:\n",
    "            tmp = np.random.exponential(1)\n",
    "        x[r].append(tmp)\n",
    "\n",
    "    print(str(times+1),'times:',np.mean(x[0] + 2 * np.mean(x[1]) + 3 * np.mean(x[2])))"
   ]
  },
  {
   "cell_type": "code",
   "execution_count": null,
   "metadata": {},
   "outputs": [],
   "source": []
  }
 ],
 "metadata": {
  "kernelspec": {
   "display_name": "Python 3",
   "language": "python",
   "name": "python3"
  },
  "language_info": {
   "codemirror_mode": {
    "name": "ipython",
    "version": 3
   },
   "file_extension": ".py",
   "mimetype": "text/x-python",
   "name": "python",
   "nbconvert_exporter": "python",
   "pygments_lexer": "ipython3",
   "version": "3.7.6"
  }
 },
 "nbformat": 4,
 "nbformat_minor": 4
}
