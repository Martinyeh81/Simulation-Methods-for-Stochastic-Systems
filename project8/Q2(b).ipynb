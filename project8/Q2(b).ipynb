{
 "cells": [
  {
   "cell_type": "code",
   "execution_count": 1,
   "metadata": {},
   "outputs": [],
   "source": [
    "import random\n",
    "import numpy as np"
   ]
  },
  {
   "cell_type": "code",
   "execution_count": 5,
   "metadata": {},
   "outputs": [
    {
     "name": "stdout",
     "output_type": "stream",
     "text": [
      "1 times: 1.8002946879483453e-05\n",
      "2 times: 1.8052969294691107e-05\n",
      "3 times: 1.7965237338192988e-05\n",
      "4 times: 1.7953897842144865e-05\n",
      "5 times: 1.795138421672479e-05\n",
      "6 times: 1.802560389435871e-05\n",
      "7 times: 1.8008876216521815e-05\n",
      "8 times: 1.792247327156866e-05\n",
      "9 times: 1.8103281357570698e-05\n",
      "10 times: 1.797672572022511e-05\n"
     ]
    }
   ],
   "source": [
    "for times in range(10):\n",
    "    dim = list(range(3))\n",
    "    x = [[0.01] for i in range(3)]\n",
    "    for i in range(10000):\n",
    "        s, tmp = 0, 0\n",
    "        r = random.randint(0, 2)\n",
    "        for j in dim:\n",
    "            if j == r:\n",
    "                continue\n",
    "            s += (j+1)*x[j][-1]\n",
    "        total = 1 - s\n",
    "        while tmp * (r+1) >= total:\n",
    "            tmp = np.random.exponential(1)\n",
    "        x[r].append(tmp)\n",
    "    print(str(times+1),'times:',np.mean(x[0]+2*np.mean(x[1])+3*np.mean(x[2])))"
   ]
  },
  {
   "cell_type": "code",
   "execution_count": null,
   "metadata": {},
   "outputs": [],
   "source": []
  }
 ],
 "metadata": {
  "kernelspec": {
   "display_name": "Python 3",
   "language": "python",
   "name": "python3"
  },
  "language_info": {
   "codemirror_mode": {
    "name": "ipython",
    "version": 3
   },
   "file_extension": ".py",
   "mimetype": "text/x-python",
   "name": "python",
   "nbconvert_exporter": "python",
   "pygments_lexer": "ipython3",
   "version": "3.7.6"
  }
 },
 "nbformat": 4,
 "nbformat_minor": 4
}
