{
 "cells": [
  {
   "cell_type": "code",
   "execution_count": 2,
   "metadata": {},
   "outputs": [
    {
     "name": "stdout",
     "output_type": "stream",
     "text": [
      "Result = 0.41266563950156343\n",
      "Result = 0.4108488172441664\n",
      "Result = 0.41729241827409125\n",
      "Result = 0.4163662007416169\n",
      "Result = 0.41131068974091106\n",
      "Result = 0.4080381920734322\n",
      "Result = 0.40803810661380613\n",
      "Result = 0.40651771680637305\n",
      "Result = 0.4097203946252599\n",
      "Result = 0.41308128005792205\n",
      "Result = 0.4105028411827018\n",
      "Result = 0.41484067595220275\n",
      "Result = 0.4143517520992237\n",
      "Result = 0.4118314227198371\n",
      "Result = 0.40928115430035195\n",
      "Result = 0.41262544492250547\n",
      "Result = 0.4135064437211818\n",
      "Result = 0.41438159793724844\n",
      "Result = 0.4109798798396913\n",
      "Result = 0.4096717802709172\n"
     ]
    }
   ],
   "source": [
    "import numpy as np\n",
    "for times in range(20):\n",
    "    result = []\n",
    "    for i in range(10000):\n",
    "        x = np.random.uniform()\n",
    "        y = np.random.uniform()\n",
    "        result.append(np.exp(-(x+y)**2))\n",
    "    print('Result =', np.mean(result))"
   ]
  },
  {
   "cell_type": "code",
   "execution_count": null,
   "metadata": {},
   "outputs": [],
   "source": []
  }
 ],
 "metadata": {
  "kernelspec": {
   "display_name": "Python 3",
   "language": "python",
   "name": "python3"
  },
  "language_info": {
   "codemirror_mode": {
    "name": "ipython",
    "version": 3
   },
   "file_extension": ".py",
   "mimetype": "text/x-python",
   "name": "python",
   "nbconvert_exporter": "python",
   "pygments_lexer": "ipython3",
   "version": "3.7.4"
  }
 },
 "nbformat": 4,
 "nbformat_minor": 4
}
