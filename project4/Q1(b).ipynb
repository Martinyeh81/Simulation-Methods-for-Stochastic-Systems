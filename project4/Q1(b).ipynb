{
 "cells": [
  {
   "cell_type": "code",
   "execution_count": 4,
   "metadata": {},
   "outputs": [
    {
     "name": "stdout",
     "output_type": "stream",
     "text": [
      "Result = 1.762162724327352\n",
      "Result = 1.7692988214582681\n",
      "Result = 1.773057756587621\n",
      "Result = 1.7326411790066802\n",
      "Result = 1.7665466949059336\n",
      "Result = 1.7867690801964657\n",
      "Result = 1.7723472905847752\n",
      "Result = 1.765228539403738\n",
      "Result = 1.7585191782506562\n",
      "Result = 1.791112879769543\n",
      "Result = 1.7844469512265897\n",
      "Result = 1.7636486172358476\n",
      "Result = 1.7598177655870177\n",
      "Result = 1.7782682530684415\n",
      "Result = 1.7660529904045577\n",
      "Result = 1.7785642428899406\n",
      "Result = 1.772618059079561\n",
      "Result = 1.7737315810224281\n",
      "Result = 1.8062991620568294\n",
      "Result = 1.751662620704019\n"
     ]
    }
   ],
   "source": [
    "import numpy as np\n",
    "for times in range(20):\n",
    "    result = []\n",
    "    for i in range(10000):\n",
    "        x = np.random.uniform()\n",
    "        result.append(2*(np.exp(-(1/x-1)**2)/x**2))\n",
    "    print('Result =', np.mean(result))"
   ]
  },
  {
   "cell_type": "code",
   "execution_count": null,
   "metadata": {},
   "outputs": [],
   "source": []
  }
 ],
 "metadata": {
  "kernelspec": {
   "display_name": "Python 3",
   "language": "python",
   "name": "python3"
  },
  "language_info": {
   "codemirror_mode": {
    "name": "ipython",
    "version": 3
   },
   "file_extension": ".py",
   "mimetype": "text/x-python",
   "name": "python",
   "nbconvert_exporter": "python",
   "pygments_lexer": "ipython3",
   "version": "3.7.4"
  }
 },
 "nbformat": 4,
 "nbformat_minor": 4
}
