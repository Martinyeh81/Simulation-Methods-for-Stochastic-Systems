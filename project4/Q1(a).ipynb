{
 "cells": [
  {
   "cell_type": "code",
   "execution_count": 1,
   "metadata": {},
   "outputs": [],
   "source": [
    "import numpy as np"
   ]
  },
  {
   "cell_type": "code",
   "execution_count": 20,
   "metadata": {},
   "outputs": [
    {
     "name": "stdout",
     "output_type": "stream",
     "text": [
      "Result = 92.57175795347278\n",
      "Result = 93.58876330005049\n",
      "Result = 95.45233639573503\n",
      "Result = 90.56313572136959\n",
      "Result = 93.92498229711003\n",
      "Result = 96.94235045845593\n",
      "Result = 93.06334578456968\n",
      "Result = 91.86408735254294\n",
      "Result = 95.50410524986263\n",
      "Result = 91.35045879312074\n",
      "Result = 91.06679091189383\n",
      "Result = 88.35750127243031\n",
      "Result = 93.91849003877584\n",
      "Result = 90.40886349707498\n",
      "Result = 94.06131914139765\n",
      "Result = 91.78434769645885\n",
      "Result = 93.50669154653009\n",
      "Result = 94.94114227395495\n",
      "Result = 91.17227138062258\n",
      "Result = 93.28660445400494\n"
     ]
    }
   ],
   "source": [
    "for times in range(20):\n",
    "    result = []\n",
    "    for i in range(10000):\n",
    "        x = np.random.uniform()\n",
    "        result.append(4*np.exp(16*(x**2)-12*x+2))\n",
    "    print('Result =', np.mean(result))"
   ]
  },
  {
   "cell_type": "code",
   "execution_count": null,
   "metadata": {},
   "outputs": [],
   "source": []
  }
 ],
 "metadata": {
  "kernelspec": {
   "display_name": "Python 3",
   "language": "python",
   "name": "python3"
  },
  "language_info": {
   "codemirror_mode": {
    "name": "ipython",
    "version": 3
   },
   "file_extension": ".py",
   "mimetype": "text/x-python",
   "name": "python",
   "nbconvert_exporter": "python",
   "pygments_lexer": "ipython3",
   "version": "3.7.4"
  }
 },
 "nbformat": 4,
 "nbformat_minor": 4
}
