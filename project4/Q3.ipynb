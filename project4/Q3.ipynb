{
 "cells": [
  {
   "cell_type": "code",
   "execution_count": 28,
   "metadata": {},
   "outputs": [],
   "source": [
    "import random\n",
    "import math\n",
    "import numpy as np\n",
    "def read_txt(file):\n",
    "    with open(file, 'r') as f:\n",
    "        data = f.readlines()\n",
    "\n",
    "    line = 0\n",
    "    while data[line][0] != '1':\n",
    "        line += 1\n",
    "\n",
    "    waiting = []\n",
    "\n",
    "    for i in range(line, line + 272):\n",
    "        waiting.append(int(data[i].split()[-1]))\n",
    "\n",
    "    return waiting"
   ]
  },
  {
   "cell_type": "code",
   "execution_count": 29,
   "metadata": {},
   "outputs": [],
   "source": [
    "data = read_txt('faithful.dat.txt')  #or data[:15]\n",
    "mean = np.mean(data)\n",
    "std = np.std(data, ddof=1)\n",
    "z = 1.96\n",
    "statistical=[mean-z*(std/math.sqrt(len(data))), mean+z*(std/math.sqrt(len(data)))]"
   ]
  },
  {
   "cell_type": "code",
   "execution_count": 30,
   "metadata": {},
   "outputs": [],
   "source": [
    "length = len(data)\n",
    "result = []\n",
    "for i in range(10000):\n",
    "    rvsample = []\n",
    "    for j in range(length):\n",
    "        rvsample.append(random.sample(data, 1))\n",
    "    result.append(np.mean(rvsample))\n",
    "bootstrap = [np.percentile(result, 2.5), np.percentile(result, 97.5)]"
   ]
  },
  {
   "cell_type": "code",
   "execution_count": 34,
   "metadata": {},
   "outputs": [
    {
     "name": "stdout",
     "output_type": "stream",
     "text": [
      "95% statistical confidence for all data:\n",
      "lower bound: 63.278770830413194\n",
      "upper bound: 78.58789583625348\n",
      "95% bootstrap confidence for all data:\n",
      "lower bound: 63.39833333333333\n",
      "upper bound: 78.26666666666667\n",
      "95% statistical confidence for 15 data:\n",
      "lower bound: 63.278770830413194\n",
      "upper bound: 78.58789583625348\n",
      "95% bootstrap confidence for 15 data:\n",
      "lower bound: 63.266666666666666\n",
      "upper bound: 78.13333333333334\n"
     ]
    }
   ],
   "source": [
    "print('95% statistical confidence for all data:')\n",
    "lower, upper = statistical\n",
    "print('lower bound:', lower)\n",
    "print('upper bound:', upper)\n",
    "print('95% bootstrap confidence for all data:')\n",
    "lower, upper = bootstrap\n",
    "print('lower bound:', lower)\n",
    "print('upper bound:', upper)\n",
    "data = read_txt('faithful.dat.txt')  #or data[:15]\n",
    "mean = np.mean(data[:15])\n",
    "std = np.std(data[:15], ddof=1)\n",
    "z = 1.96\n",
    "statistical=[mean-z*(std/math.sqrt(len(data[:15]))), mean+z*(std/math.sqrt(len(data[:15])))]\n",
    "length = len(data[:15])\n",
    "result = []\n",
    "for i in range(10000):\n",
    "    rvsample = []\n",
    "    for j in range(length):\n",
    "        rvsample.append(random.sample(data[:15], 1))\n",
    "    result.append(np.mean(rvsample))\n",
    "bootstrap = [np.percentile(result, 2.5), np.percentile(result, 97.5)]\n",
    "print('95% statistical confidence for 15 data:')\n",
    "lower, upper = statistical\n",
    "print('lower bound:', lower)\n",
    "print('upper bound:', upper)\n",
    "print('95% bootstrap confidence for 15 data:')\n",
    "lower, upper = bootstrap\n",
    "print('lower bound:', lower)\n",
    "print('upper bound:', upper)"
   ]
  },
  {
   "cell_type": "code",
   "execution_count": 32,
   "metadata": {},
   "outputs": [],
   "source": [
    "data = read_txt('faithful.dat.txt')  #or data[:15]\n",
    "mean = np.mean(data[:15])\n",
    "std = np.std(data[:15], ddof=1)\n",
    "z = 1.96\n",
    "statistical=[mean-z*(std/math.sqrt(len(data[:15]))), mean+z*(std/math.sqrt(len(data[:15])))]\n",
    "length = len(data[:15])\n",
    "result = []\n",
    "for i in range(10000):\n",
    "    rvsample = []\n",
    "    for j in range(length):\n",
    "        rvsample.append(random.sample(data[:15], 1))\n",
    "    result.append(np.mean(rvsample))\n",
    "bootstrap = [np.percentile(result, 2.5), np.percentile(result, 97.5)]"
   ]
  },
  {
   "cell_type": "code",
   "execution_count": 33,
   "metadata": {},
   "outputs": [
    {
     "name": "stdout",
     "output_type": "stream",
     "text": [
      "95% statistical confidence for 15 data:\n",
      "lower bound: 63.278770830413194\n",
      "upper bound: 78.58789583625348\n",
      "95% bootstrap confidence for 15 data:\n",
      "lower bound: 63.39833333333333\n",
      "upper bound: 78.26666666666667\n"
     ]
    }
   ],
   "source": [
    "print('95% statistical confidence for 15 data:')\n",
    "lower, upper = statistical\n",
    "print('lower bound:', lower)\n",
    "print('upper bound:', upper)\n",
    "print('95% bootstrap confidence for 15 data:')\n",
    "lower, upper = bootstrap\n",
    "print('lower bound:', lower)\n",
    "print('upper bound:', upper)"
   ]
  },
  {
   "cell_type": "code",
   "execution_count": null,
   "metadata": {},
   "outputs": [],
   "source": []
  }
 ],
 "metadata": {
  "kernelspec": {
   "display_name": "Python 3",
   "language": "python",
   "name": "python3"
  },
  "language_info": {
   "codemirror_mode": {
    "name": "ipython",
    "version": 3
   },
   "file_extension": ".py",
   "mimetype": "text/x-python",
   "name": "python",
   "nbconvert_exporter": "python",
   "pygments_lexer": "ipython3",
   "version": "3.7.4"
  }
 },
 "nbformat": 4,
 "nbformat_minor": 4
}
